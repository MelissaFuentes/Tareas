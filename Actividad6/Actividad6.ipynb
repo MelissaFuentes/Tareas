{
 "cells": [
  {
   "cell_type": "code",
   "execution_count": 1,
   "metadata": {},
   "outputs": [],
   "source": [
    "#Importamos las carpetas que vamos a utilizar.\n",
    "import pandas as pd\n",
    "import numpy as np\n",
    "import matplotlib.pyplot as plt"
   ]
  },
  {
   "cell_type": "code",
   "execution_count": 2,
   "metadata": {},
   "outputs": [],
   "source": [
    "#Leemos el archivo que vamos a utilizar en la actividad.\n",
    "df0 = pd.read_csv(\"vid18_180219.dat\")"
   ]
  },
  {
   "cell_type": "code",
   "execution_count": 3,
   "metadata": {},
   "outputs": [
    {
     "data": {
      "text/plain": [
       "(             TIMESTAMP  AirTC_Avg\n",
       " 0  2018-05-11 20:10:00      23.50\n",
       " 1  2018-05-11 20:20:00      22.96\n",
       " 2  2018-05-11 20:30:00      22.73\n",
       " 3  2018-05-11 20:40:00      22.40\n",
       " 4  2018-05-11 20:50:00      22.46,                  TIMESTAMP  AirTC_Avg\n",
       " 40655  2019-02-18 06:50:00      3.699\n",
       " 40656  2019-02-18 07:00:00      3.492\n",
       " 40657  2019-02-18 07:10:00      3.387\n",
       " 40658  2019-02-18 07:20:00      3.243\n",
       " 40659  2019-02-18 07:30:00      3.552)"
      ]
     },
     "execution_count": 3,
     "metadata": {},
     "output_type": "execute_result"
    }
   ],
   "source": [
    "#Ahora, con la lectura del archivo creamos un DataFrame.\n",
    "df1 = pd.DataFrame(df0) \n",
    "\n",
    "#Y otro DataFrame especial con las columnas que vamos a utilizar.\n",
    "df2=df1[['TIMESTAMP','AirTC_Avg']] \n",
    "df = pd.DataFrame(df2) \n",
    "\n",
    "#Imprimimos la cabeza y final del archivo.\n",
    "df.head(), df.tail()"
   ]
  },
  {
   "cell_type": "code",
   "execution_count": 4,
   "metadata": {},
   "outputs": [
    {
     "data": {
      "text/plain": [
       "TIMESTAMP     object\n",
       "AirTC_Avg    float64\n",
       "dtype: object"
      ]
     },
     "execution_count": 4,
     "metadata": {},
     "output_type": "execute_result"
    }
   ],
   "source": [
    "#Leemos los tipos de variables para despues, trabajar con ellas.\n",
    "df.dtypes"
   ]
  },
  {
   "cell_type": "code",
   "execution_count": 5,
   "metadata": {},
   "outputs": [],
   "source": [
    "#Ahora convertiremos las variables TimeStamp a variables fecha.\n",
    "df['TIMESTAMP'] = pd.to_datetime(df.apply(lambda x: x['TIMESTAMP'],1), dayfirst=True)\n",
    "\n",
    "\n",
    "df['Año']=df['TIMESTAMP'].dt.year \n",
    "df['Mes']=df['TIMESTAMP'].dt.month \n",
    "df['Dia']=df['TIMESTAMP'].dt.day\n",
    "df['Hora']=df['TIMESTAMP'].dt.hour"
   ]
  },
  {
   "cell_type": "code",
   "execution_count": 6,
   "metadata": {},
   "outputs": [
    {
     "data": {
      "text/html": [
       "<div>\n",
       "<style scoped>\n",
       "    .dataframe tbody tr th:only-of-type {\n",
       "        vertical-align: middle;\n",
       "    }\n",
       "\n",
       "    .dataframe tbody tr th {\n",
       "        vertical-align: top;\n",
       "    }\n",
       "\n",
       "    .dataframe thead th {\n",
       "        text-align: right;\n",
       "    }\n",
       "</style>\n",
       "<table border=\"1\" class=\"dataframe\">\n",
       "  <thead>\n",
       "    <tr style=\"text-align: right;\">\n",
       "      <th></th>\n",
       "      <th>TIMESTAMP</th>\n",
       "      <th>AirTC_Avg</th>\n",
       "      <th>Año</th>\n",
       "      <th>Mes</th>\n",
       "      <th>Dia</th>\n",
       "      <th>Hora</th>\n",
       "    </tr>\n",
       "  </thead>\n",
       "  <tbody>\n",
       "    <tr>\n",
       "      <th>15720</th>\n",
       "      <td>2019-02-18 06:50:00</td>\n",
       "      <td>3.699</td>\n",
       "      <td>2019</td>\n",
       "      <td>2</td>\n",
       "      <td>18</td>\n",
       "      <td>6</td>\n",
       "    </tr>\n",
       "    <tr>\n",
       "      <th>15721</th>\n",
       "      <td>2019-02-18 07:00:00</td>\n",
       "      <td>3.492</td>\n",
       "      <td>2019</td>\n",
       "      <td>2</td>\n",
       "      <td>18</td>\n",
       "      <td>7</td>\n",
       "    </tr>\n",
       "    <tr>\n",
       "      <th>15722</th>\n",
       "      <td>2019-02-18 07:10:00</td>\n",
       "      <td>3.387</td>\n",
       "      <td>2019</td>\n",
       "      <td>2</td>\n",
       "      <td>18</td>\n",
       "      <td>7</td>\n",
       "    </tr>\n",
       "    <tr>\n",
       "      <th>15723</th>\n",
       "      <td>2019-02-18 07:20:00</td>\n",
       "      <td>3.243</td>\n",
       "      <td>2019</td>\n",
       "      <td>2</td>\n",
       "      <td>18</td>\n",
       "      <td>7</td>\n",
       "    </tr>\n",
       "    <tr>\n",
       "      <th>15724</th>\n",
       "      <td>2019-02-18 07:30:00</td>\n",
       "      <td>3.552</td>\n",
       "      <td>2019</td>\n",
       "      <td>2</td>\n",
       "      <td>18</td>\n",
       "      <td>7</td>\n",
       "    </tr>\n",
       "  </tbody>\n",
       "</table>\n",
       "</div>"
      ],
      "text/plain": [
       "                TIMESTAMP  AirTC_Avg   Año  Mes  Dia  Hora\n",
       "15720 2019-02-18 06:50:00      3.699  2019    2   18     6\n",
       "15721 2019-02-18 07:00:00      3.492  2019    2   18     7\n",
       "15722 2019-02-18 07:10:00      3.387  2019    2   18     7\n",
       "15723 2019-02-18 07:20:00      3.243  2019    2   18     7\n",
       "15724 2019-02-18 07:30:00      3.552  2019    2   18     7"
      ]
     },
     "execution_count": 6,
     "metadata": {},
     "output_type": "execute_result"
    }
   ],
   "source": [
    "#Creamos un DataFrame que comience el conteo a partir del 1 de Noviembre, y lo reinicimos para volveerlo a utilizar.\n",
    "\n",
    "uf = pd.DataFrame(df[df['TIMESTAMP']>=\"2018-11-1\"])\n",
    "uf = uf.reset_index(drop=True)\n",
    "uf.tail()"
   ]
  },
  {
   "cell_type": "code",
   "execution_count": 7,
   "metadata": {},
   "outputs": [
    {
     "data": {
      "text/plain": [
       "(            TIMESTAMP  AirTC_Avg   Año  Mes  Dia  Hora\n",
       " 0 2018-05-11 20:10:00      23.50  2018    5   11    20\n",
       " 1 2018-05-11 20:20:00      22.96  2018    5   11    20\n",
       " 2 2018-05-11 20:30:00      22.73  2018    5   11    20\n",
       " 3 2018-05-11 20:40:00      22.40  2018    5   11    20\n",
       " 4 2018-05-11 20:50:00      22.46  2018    5   11    20,\n",
       "                 TIMESTAMP  AirTC_Avg   Año  Mes  Dia  Hora\n",
       " 40655 2019-02-18 06:50:00      3.699  2019    2   18     6\n",
       " 40656 2019-02-18 07:00:00      3.492  2019    2   18     7\n",
       " 40657 2019-02-18 07:10:00      3.387  2019    2   18     7\n",
       " 40658 2019-02-18 07:20:00      3.243  2019    2   18     7\n",
       " 40659 2019-02-18 07:30:00      3.552  2019    2   18     7)"
      ]
     },
     "execution_count": 7,
     "metadata": {},
     "output_type": "execute_result"
    }
   ],
   "source": [
    "#Añadimos las columnas con el promedio por hora de la temperatura y de las temperaturas maxima y minima por dia.\n",
    "uf[\"Tprom\"]=round(uf.groupby(['Año','Mes','Dia','Hora']).transform(np.mean),1)\n",
    "uf[\"Tmax\"]=round(uf.groupby(['Año','Mes','Dia'])['Tprom'].transform(np.max),1)\n",
    "uf[\"Tmin\"]=round(uf.groupby(['Año','Mes','Dia'])['Tprom'].transform(np.min),1)\n",
    "\n",
    "#Imprimimos la cabeza y final del archivo.\n",
    "df.head(), df.tail()"
   ]
  },
  {
   "cell_type": "code",
   "execution_count": 8,
   "metadata": {},
   "outputs": [
    {
     "data": {
      "text/plain": [
       "(            TIMESTAMP  AirTC_Avg   Año  Mes  Dia  Hora\n",
       " 0 2018-05-11 20:10:00      23.50  2018    5   11    20\n",
       " 1 2018-05-11 20:20:00      22.96  2018    5   11    20\n",
       " 2 2018-05-11 20:30:00      22.73  2018    5   11    20\n",
       " 3 2018-05-11 20:40:00      22.40  2018    5   11    20\n",
       " 4 2018-05-11 20:50:00      22.46  2018    5   11    20,\n",
       "                 TIMESTAMP  AirTC_Avg   Año  Mes  Dia  Hora\n",
       " 40655 2019-02-18 06:50:00      3.699  2019    2   18     6\n",
       " 40656 2019-02-18 07:00:00      3.492  2019    2   18     7\n",
       " 40657 2019-02-18 07:10:00      3.387  2019    2   18     7\n",
       " 40658 2019-02-18 07:20:00      3.243  2019    2   18     7\n",
       " 40659 2019-02-18 07:30:00      3.552  2019    2   18     7)"
      ]
     },
     "execution_count": 8,
     "metadata": {},
     "output_type": "execute_result"
    }
   ],
   "source": [
    "uf=uf.drop(['TIMESTAMP','AirTC_Avg'],1)\n",
    "\n",
    "#Imprimimos la cabeza y final del archivo.\n",
    "df.head(), df.tail()"
   ]
  },
  {
   "cell_type": "code",
   "execution_count": 9,
   "metadata": {},
   "outputs": [
    {
     "data": {
      "text/plain": [
       "(            TIMESTAMP  AirTC_Avg   Año  Mes  Dia  Hora\n",
       " 0 2018-05-11 20:10:00      23.50  2018    5   11    20\n",
       " 1 2018-05-11 20:20:00      22.96  2018    5   11    20\n",
       " 2 2018-05-11 20:30:00      22.73  2018    5   11    20\n",
       " 3 2018-05-11 20:40:00      22.40  2018    5   11    20\n",
       " 4 2018-05-11 20:50:00      22.46  2018    5   11    20,\n",
       "                 TIMESTAMP  AirTC_Avg   Año  Mes  Dia  Hora\n",
       " 40655 2019-02-18 06:50:00      3.699  2019    2   18     6\n",
       " 40656 2019-02-18 07:00:00      3.492  2019    2   18     7\n",
       " 40657 2019-02-18 07:10:00      3.387  2019    2   18     7\n",
       " 40658 2019-02-18 07:20:00      3.243  2019    2   18     7\n",
       " 40659 2019-02-18 07:30:00      3.552  2019    2   18     7)"
      ]
     },
     "execution_count": 9,
     "metadata": {},
     "output_type": "execute_result"
    }
   ],
   "source": [
    "uf=uf.drop_duplicates(subset=['Año','Mes','Dia','Hora'])\n",
    "uf = uf.reset_index(drop=True)\n",
    "\n",
    "#Imprimimos la cabeza y final del archivo.\n",
    "df.head(), df.tail()"
   ]
  },
  {
   "cell_type": "code",
   "execution_count": 10,
   "metadata": {},
   "outputs": [
    {
     "data": {
      "text/plain": [
       "(    Año  Mes  Dia  Hora  Tprom  Tmax  Tmin   UF\n",
       " 0  2018   11    1     0    8.7  28.6   6.8  1.0\n",
       " 1  2018   11    1     1    8.5  28.6   6.8  1.0\n",
       " 2  2018   11    1     2    8.7  28.6   6.8  1.0\n",
       " 3  2018   11    1     3    8.8  28.6   6.8  1.0\n",
       " 4  2018   11    1     4    7.4  28.6   6.8  1.0,\n",
       "        Año  Mes  Dia  Hora  Tprom  Tmax  Tmin   UF\n",
       " 2618  2019    2   18     3    5.4   6.8   3.4  1.0\n",
       " 2619  2019    2   18     4    4.7   6.8   3.4  1.0\n",
       " 2620  2019    2   18     5    4.2   6.8   3.4  1.0\n",
       " 2621  2019    2   18     6    3.7   6.8   3.4  1.0\n",
       " 2622  2019    2   18     7    3.4   6.8   3.4  1.0)"
      ]
     },
     "execution_count": 10,
     "metadata": {},
     "output_type": "execute_result"
    }
   ],
   "source": [
    "#Creamos un Loop para las unidades de frio por dia.\n",
    "\n",
    "UF=[]\n",
    "for i in range (0,len(uf)):\n",
    "    if(uf['Tprom'][i]< 1.5):\n",
    "        UF.append(0)\n",
    "    elif(1.5<=uf['Tprom'][i]<2.5):\n",
    "        UF.append(0.5)\n",
    "    elif(2.5<=uf['Tprom'][i]<9.2):\n",
    "        UF.append(1.0)\n",
    "    elif(9.2<=uf['Tprom'][i]<12.5):\n",
    "        UF.append(0.5)\n",
    "    elif(12.5<=uf['Tprom'][i]<16):\n",
    "        UF.append(0.0)\n",
    "    elif(16<=uf['Tprom'][i]<18):\n",
    "        UF.append(-0.5)\n",
    "    elif(uf['Tprom'][i]>=18):\n",
    "        UF.append(-1.0)\n",
    "uf['UF']=UF\n",
    "\n",
    "#Imprimimos la cabeza y el final del archivo.\n",
    "uf.head(), uf.tail()"
   ]
  },
  {
   "cell_type": "code",
   "execution_count": 11,
   "metadata": {},
   "outputs": [
    {
     "data": {
      "text/plain": [
       "(    Año  Mes  Dia  Hora  Tprom  Tmax  Tmin   UF  UF24\n",
       " 0  2018   11    1     0    8.7  28.6   6.8  1.0  -0.5\n",
       " 1  2018   11    1     1    8.5  28.6   6.8  1.0  -0.5\n",
       " 2  2018   11    1     2    8.7  28.6   6.8  1.0  -0.5\n",
       " 3  2018   11    1     3    8.8  28.6   6.8  1.0  -0.5\n",
       " 4  2018   11    1     4    7.4  28.6   6.8  1.0  -0.5,\n",
       "        Año  Mes  Dia  Hora  Tprom  Tmax  Tmin   UF  UF24\n",
       " 2618  2019    2   18     3    5.4   6.8   3.4  1.0   8.0\n",
       " 2619  2019    2   18     4    4.7   6.8   3.4  1.0   8.0\n",
       " 2620  2019    2   18     5    4.2   6.8   3.4  1.0   8.0\n",
       " 2621  2019    2   18     6    3.7   6.8   3.4  1.0   8.0\n",
       " 2622  2019    2   18     7    3.4   6.8   3.4  1.0   8.0)"
      ]
     },
     "execution_count": 11,
     "metadata": {},
     "output_type": "execute_result"
    }
   ],
   "source": [
    "#Sumamos el valor de las unidades de frio por dia.\n",
    "\n",
    "uf[\"UF24\"]=uf.groupby(['Año','Mes','Dia'])['UF'].transform(\"sum\")\n",
    "uf.head(), uf.tail()"
   ]
  },
  {
   "cell_type": "code",
   "execution_count": 12,
   "metadata": {},
   "outputs": [
    {
     "data": {
      "text/plain": [
       "(     Año  Mes  Dia  Hora  Tprom  Tmax  Tmin   UF  UF24\n",
       " 0   2018   11    1     0    8.7  28.6   6.8  1.0  -0.5\n",
       " 24  2018   11    2     0   10.6  31.0  10.2  0.5  -9.0\n",
       " 48  2018   11    3     0   12.5  30.0  10.5  0.0  -9.5\n",
       " 72  2018   11    4     0   12.7  31.2  11.7  0.0 -11.5\n",
       " 96  2018   11    5     0   13.9  31.1  11.4  0.0  -8.0,\n",
       "        Año  Mes  Dia  Hora  Tprom  Tmax  Tmin   UF  UF24\n",
       " 2519  2019    2   14     0   11.2  28.6   9.6  0.5 -11.0\n",
       " 2543  2019    2   15     0   18.7  27.2  15.0 -1.0 -20.5\n",
       " 2567  2019    2   16     0   12.7  23.3   6.7  0.0  -4.5\n",
       " 2591  2019    2   17     0   11.0  20.8   3.8  0.5   2.5\n",
       " 2615  2019    2   18     0    6.8   6.8   3.4  1.0   8.0)"
      ]
     },
     "execution_count": 12,
     "metadata": {},
     "output_type": "execute_result"
    }
   ],
   "source": [
    "uf24 = pd.DataFrame(uf.drop_duplicates(['Año','Mes','Dia']))\n",
    "uf24.head(), uf24.tail()"
   ]
  },
  {
   "cell_type": "code",
   "execution_count": 13,
   "metadata": {},
   "outputs": [
    {
     "data": {
      "text/plain": [
       "(     Año  Mes  Dia  Tprom  Tmax  Tmin  UF24\n",
       " 0   2018   11    1    8.7  28.6   6.8  -0.5\n",
       " 24  2018   11    2   10.6  31.0  10.2  -9.0\n",
       " 48  2018   11    3   12.5  30.0  10.5  -9.5\n",
       " 72  2018   11    4   12.7  31.2  11.7 -11.5\n",
       " 96  2018   11    5   13.9  31.1  11.4  -8.0,\n",
       "        Año  Mes  Dia  Tprom  Tmax  Tmin  UF24\n",
       " 2519  2019    2   14   11.2  28.6   9.6 -11.0\n",
       " 2543  2019    2   15   18.7  27.2  15.0 -20.5\n",
       " 2567  2019    2   16   12.7  23.3   6.7  -4.5\n",
       " 2591  2019    2   17   11.0  20.8   3.8   2.5\n",
       " 2615  2019    2   18    6.8   6.8   3.4   8.0)"
      ]
     },
     "execution_count": 13,
     "metadata": {},
     "output_type": "execute_result"
    }
   ],
   "source": [
    "uf24=uf24.drop(['Hora','UF'],1)\n",
    "uf24.head(), uf24.tail()"
   ]
  },
  {
   "cell_type": "code",
   "execution_count": 14,
   "metadata": {},
   "outputs": [
    {
     "data": {
      "text/plain": [
       "(    Año  Mes  Dia  Hora  Tprom  Tmax  Tmin   UF  UF24\n",
       " 0  2018   11    1     0    8.7  28.6   6.8  1.0  -0.5\n",
       " 1  2018   11    1     1    8.5  28.6   6.8  1.0  -0.5\n",
       " 2  2018   11    1     2    8.7  28.6   6.8  1.0  -0.5\n",
       " 3  2018   11    1     3    8.8  28.6   6.8  1.0  -0.5\n",
       " 4  2018   11    1     4    7.4  28.6   6.8  1.0  -0.5,\n",
       "        Año  Mes  Dia  Hora  Tprom  Tmax  Tmin   UF  UF24\n",
       " 2618  2019    2   18     3    5.4   6.8   3.4  1.0   8.0\n",
       " 2619  2019    2   18     4    4.7   6.8   3.4  1.0   8.0\n",
       " 2620  2019    2   18     5    4.2   6.8   3.4  1.0   8.0\n",
       " 2621  2019    2   18     6    3.7   6.8   3.4  1.0   8.0\n",
       " 2622  2019    2   18     7    3.4   6.8   3.4  1.0   8.0)"
      ]
     },
     "execution_count": 14,
     "metadata": {},
     "output_type": "execute_result"
    }
   ],
   "source": [
    "#Reiniciamos de nuevo el indice, para utilizarlo despues.\n",
    "uf = uf.reset_index(drop=True) \n",
    "uf.head(), uf.tail()"
   ]
  },
  {
   "cell_type": "code",
   "execution_count": 15,
   "metadata": {},
   "outputs": [
    {
     "data": {
      "text/plain": [
       "(    Año  Mes  Dia  Tprom  Tmax  Tmin  UF24  Sum_UF24\n",
       " 0  2018   11    1    8.7  28.6   6.8  -0.5      -0.5\n",
       " 1  2018   11    2   10.6  31.0  10.2  -9.0      -9.5\n",
       " 2  2018   11    3   12.5  30.0  10.5  -9.5     -19.0\n",
       " 3  2018   11    4   12.7  31.2  11.7 -11.5     -30.5\n",
       " 4  2018   11    5   13.9  31.1  11.4  -8.0     -38.5,\n",
       "       Año  Mes  Dia  Tprom  Tmax  Tmin  UF24  Sum_UF24\n",
       " 105  2019    2   14   11.2  28.6   9.6 -11.0    -267.5\n",
       " 106  2019    2   15   18.7  27.2  15.0 -20.5    -288.0\n",
       " 107  2019    2   16   12.7  23.3   6.7  -4.5    -292.5\n",
       " 108  2019    2   17   11.0  20.8   3.8   2.5    -290.0\n",
       " 109  2019    2   18    6.8   6.8   3.4   8.0    -282.0)"
      ]
     },
     "execution_count": 15,
     "metadata": {},
     "output_type": "execute_result"
    }
   ],
   "source": [
    "#Creamos una columna para aalmacenar la suma de las unidades de frio por dia.\n",
    "uf24['Sum_UF24']=np.cumsum(uf24['UF24'])\n",
    "uf24 = uf24.reset_index(drop=True) \n",
    "uf24.head(), uf24.tail()"
   ]
  },
  {
   "cell_type": "code",
   "execution_count": 16,
   "metadata": {},
   "outputs": [
    {
     "data": {
      "image/png": "[encoded data removed]",
      "text/plain": [
       "<Figure size 432x288 with 1 Axes>"
      ]
     },
     "metadata": {
      "needs_background": "light"
     },
     "output_type": "display_data"
    }
   ],
   "source": [
    "#Grafica de temperaturas maxima y minima. \n",
    "x=np.arange(len(uf24['Dia']))\n",
    "y1=uf24['Tmin']\n",
    "y2=uf24['Tmax']\n",
    "plt.plot(x, y1)\n",
    "plt.plot(x, y2)\n",
    "plt.legend([\"Temperatura Minima.\",\"Temperatura Maxima.\"],loc='best')\n",
    "plt.title(\"Evolución de las temperaturas máxima y mínima. (°C)\")\n",
    "plt.ylabel(\"Temperatura. (°C)\")\n",
    "plt.xlabel(\"Dias.\")\n",
    "plt.grid(True)\n",
    "plt.show()"
   ]
  },
  {
   "cell_type": "code",
   "execution_count": 17,
   "metadata": {},
   "outputs": [
    {
     "data": {
      "image/png": "[encoded data removed]",
      "text/plain": [
       "<Figure size 432x288 with 1 Axes>"
      ]
     },
     "metadata": {
      "needs_background": "light"
     },
     "output_type": "display_data"
    }
   ],
   "source": [
    "#Grafica de horas de frio acumuladas.\n",
    "x=np.arange(len(uf24['Dia']))\n",
    "y=uf24['Sum_UF24']\n",
    "plt.plot(x, y,color='B')\n",
    "plt.legend([\"UF-Acumuladas\"],loc='best')\n",
    "plt.title(\"Comportamiento de las horas de frío acumuladas.\")\n",
    "plt.ylabel(\"Unidades de frío.\")\n",
    "plt.xlabel(\"Días.\")\n",
    "plt.grid(True)\n",
    "plt.show()"
   ]
  },
  {
   "cell_type": "code",
   "execution_count": 18,
   "metadata": {},
   "outputs": [
    {
     "data": {
      "text/plain": [
       "(    Año  Mes  Dia  Hora  Tprom  Tmax  Tmin   UF  UF24\n",
       " 0  2018   11    1     0    8.7  28.6   6.8  1.0  -0.5\n",
       " 1  2018   11    1     1    8.5  28.6   6.8  1.0  -0.5\n",
       " 2  2018   11    1     2    8.7  28.6   6.8  1.0  -0.5\n",
       " 3  2018   11    1     3    8.8  28.6   6.8  1.0  -0.5\n",
       " 4  2018   11    1     4    7.4  28.6   6.8  1.0  -0.5,\n",
       "        Año  Mes  Dia  Hora  Tprom  Tmax  Tmin   UF  UF24\n",
       " 2618  2019    2   18     3    5.4   6.8   3.4  1.0   8.0\n",
       " 2619  2019    2   18     4    4.7   6.8   3.4  1.0   8.0\n",
       " 2620  2019    2   18     5    4.2   6.8   3.4  1.0   8.0\n",
       " 2621  2019    2   18     6    3.7   6.8   3.4  1.0   8.0\n",
       " 2622  2019    2   18     7    3.4   6.8   3.4  1.0   8.0)"
      ]
     },
     "execution_count": 18,
     "metadata": {},
     "output_type": "execute_result"
    }
   ],
   "source": [
    "#Ahora, creamos un nuevo DataFrame partiendo de uno previo.\n",
    "nv=pd.DataFrame(uf)\n",
    "nv.head(), nv.tail()"
   ]
  },
  {
   "cell_type": "code",
   "execution_count": 19,
   "metadata": {},
   "outputs": [
    {
     "data": {
      "text/html": [
       "<div>\n",
       "<style scoped>\n",
       "    .dataframe tbody tr th:only-of-type {\n",
       "        vertical-align: middle;\n",
       "    }\n",
       "\n",
       "    .dataframe tbody tr th {\n",
       "        vertical-align: top;\n",
       "    }\n",
       "\n",
       "    .dataframe thead th {\n",
       "        text-align: right;\n",
       "    }\n",
       "</style>\n",
       "<table border=\"1\" class=\"dataframe\">\n",
       "  <thead>\n",
       "    <tr style=\"text-align: right;\">\n",
       "      <th></th>\n",
       "      <th>Año</th>\n",
       "      <th>Mes</th>\n",
       "      <th>Dia</th>\n",
       "      <th>Hora</th>\n",
       "      <th>Tprom</th>\n",
       "      <th>Tmax</th>\n",
       "      <th>Tmin</th>\n",
       "      <th>UF</th>\n",
       "      <th>UF24</th>\n",
       "      <th>HC</th>\n",
       "      <th>HF</th>\n",
       "    </tr>\n",
       "  </thead>\n",
       "  <tbody>\n",
       "    <tr>\n",
       "      <th>0</th>\n",
       "      <td>2018</td>\n",
       "      <td>11</td>\n",
       "      <td>1</td>\n",
       "      <td>0</td>\n",
       "      <td>8.7</td>\n",
       "      <td>28.6</td>\n",
       "      <td>6.8</td>\n",
       "      <td>1.0</td>\n",
       "      <td>-0.5</td>\n",
       "      <td>0</td>\n",
       "      <td>1</td>\n",
       "    </tr>\n",
       "    <tr>\n",
       "      <th>1</th>\n",
       "      <td>2018</td>\n",
       "      <td>11</td>\n",
       "      <td>1</td>\n",
       "      <td>1</td>\n",
       "      <td>8.5</td>\n",
       "      <td>28.6</td>\n",
       "      <td>6.8</td>\n",
       "      <td>1.0</td>\n",
       "      <td>-0.5</td>\n",
       "      <td>0</td>\n",
       "      <td>1</td>\n",
       "    </tr>\n",
       "    <tr>\n",
       "      <th>2</th>\n",
       "      <td>2018</td>\n",
       "      <td>11</td>\n",
       "      <td>1</td>\n",
       "      <td>2</td>\n",
       "      <td>8.7</td>\n",
       "      <td>28.6</td>\n",
       "      <td>6.8</td>\n",
       "      <td>1.0</td>\n",
       "      <td>-0.5</td>\n",
       "      <td>0</td>\n",
       "      <td>1</td>\n",
       "    </tr>\n",
       "    <tr>\n",
       "      <th>3</th>\n",
       "      <td>2018</td>\n",
       "      <td>11</td>\n",
       "      <td>1</td>\n",
       "      <td>3</td>\n",
       "      <td>8.8</td>\n",
       "      <td>28.6</td>\n",
       "      <td>6.8</td>\n",
       "      <td>1.0</td>\n",
       "      <td>-0.5</td>\n",
       "      <td>0</td>\n",
       "      <td>1</td>\n",
       "    </tr>\n",
       "    <tr>\n",
       "      <th>4</th>\n",
       "      <td>2018</td>\n",
       "      <td>11</td>\n",
       "      <td>1</td>\n",
       "      <td>4</td>\n",
       "      <td>7.4</td>\n",
       "      <td>28.6</td>\n",
       "      <td>6.8</td>\n",
       "      <td>1.0</td>\n",
       "      <td>-0.5</td>\n",
       "      <td>0</td>\n",
       "      <td>1</td>\n",
       "    </tr>\n",
       "    <tr>\n",
       "      <th>5</th>\n",
       "      <td>2018</td>\n",
       "      <td>11</td>\n",
       "      <td>1</td>\n",
       "      <td>5</td>\n",
       "      <td>7.3</td>\n",
       "      <td>28.6</td>\n",
       "      <td>6.8</td>\n",
       "      <td>1.0</td>\n",
       "      <td>-0.5</td>\n",
       "      <td>0</td>\n",
       "      <td>1</td>\n",
       "    </tr>\n",
       "    <tr>\n",
       "      <th>6</th>\n",
       "      <td>2018</td>\n",
       "      <td>11</td>\n",
       "      <td>1</td>\n",
       "      <td>6</td>\n",
       "      <td>6.8</td>\n",
       "      <td>28.6</td>\n",
       "      <td>6.8</td>\n",
       "      <td>1.0</td>\n",
       "      <td>-0.5</td>\n",
       "      <td>0</td>\n",
       "      <td>1</td>\n",
       "    </tr>\n",
       "    <tr>\n",
       "      <th>7</th>\n",
       "      <td>2018</td>\n",
       "      <td>11</td>\n",
       "      <td>1</td>\n",
       "      <td>7</td>\n",
       "      <td>8.1</td>\n",
       "      <td>28.6</td>\n",
       "      <td>6.8</td>\n",
       "      <td>1.0</td>\n",
       "      <td>-0.5</td>\n",
       "      <td>0</td>\n",
       "      <td>1</td>\n",
       "    </tr>\n",
       "    <tr>\n",
       "      <th>8</th>\n",
       "      <td>2018</td>\n",
       "      <td>11</td>\n",
       "      <td>1</td>\n",
       "      <td>8</td>\n",
       "      <td>15.0</td>\n",
       "      <td>28.6</td>\n",
       "      <td>6.8</td>\n",
       "      <td>0.0</td>\n",
       "      <td>-0.5</td>\n",
       "      <td>0</td>\n",
       "      <td>0</td>\n",
       "    </tr>\n",
       "    <tr>\n",
       "      <th>9</th>\n",
       "      <td>2018</td>\n",
       "      <td>11</td>\n",
       "      <td>1</td>\n",
       "      <td>9</td>\n",
       "      <td>19.7</td>\n",
       "      <td>28.6</td>\n",
       "      <td>6.8</td>\n",
       "      <td>-1.0</td>\n",
       "      <td>-0.5</td>\n",
       "      <td>0</td>\n",
       "      <td>0</td>\n",
       "    </tr>\n",
       "    <tr>\n",
       "      <th>10</th>\n",
       "      <td>2018</td>\n",
       "      <td>11</td>\n",
       "      <td>1</td>\n",
       "      <td>10</td>\n",
       "      <td>22.4</td>\n",
       "      <td>28.6</td>\n",
       "      <td>6.8</td>\n",
       "      <td>-1.0</td>\n",
       "      <td>-0.5</td>\n",
       "      <td>0</td>\n",
       "      <td>0</td>\n",
       "    </tr>\n",
       "    <tr>\n",
       "      <th>11</th>\n",
       "      <td>2018</td>\n",
       "      <td>11</td>\n",
       "      <td>1</td>\n",
       "      <td>11</td>\n",
       "      <td>23.9</td>\n",
       "      <td>28.6</td>\n",
       "      <td>6.8</td>\n",
       "      <td>-1.0</td>\n",
       "      <td>-0.5</td>\n",
       "      <td>0</td>\n",
       "      <td>0</td>\n",
       "    </tr>\n",
       "  </tbody>\n",
       "</table>\n",
       "</div>"
      ],
      "text/plain": [
       "     Año  Mes  Dia  Hora  Tprom  Tmax  Tmin   UF  UF24  HC  HF\n",
       "0   2018   11    1     0    8.7  28.6   6.8  1.0  -0.5   0   1\n",
       "1   2018   11    1     1    8.5  28.6   6.8  1.0  -0.5   0   1\n",
       "2   2018   11    1     2    8.7  28.6   6.8  1.0  -0.5   0   1\n",
       "3   2018   11    1     3    8.8  28.6   6.8  1.0  -0.5   0   1\n",
       "4   2018   11    1     4    7.4  28.6   6.8  1.0  -0.5   0   1\n",
       "5   2018   11    1     5    7.3  28.6   6.8  1.0  -0.5   0   1\n",
       "6   2018   11    1     6    6.8  28.6   6.8  1.0  -0.5   0   1\n",
       "7   2018   11    1     7    8.1  28.6   6.8  1.0  -0.5   0   1\n",
       "8   2018   11    1     8   15.0  28.6   6.8  0.0  -0.5   0   0\n",
       "9   2018   11    1     9   19.7  28.6   6.8 -1.0  -0.5   0   0\n",
       "10  2018   11    1    10   22.4  28.6   6.8 -1.0  -0.5   0   0\n",
       "11  2018   11    1    11   23.9  28.6   6.8 -1.0  -0.5   0   0"
      ]
     },
     "execution_count": 19,
     "metadata": {},
     "output_type": "execute_result"
    }
   ],
   "source": [
    "#Ahora cremos otro Loop para realizar un conteo de las horas frias y calientes que hay por hora.\n",
    "\n",
    "HF=[] \n",
    "HC=[] \n",
    "\n",
    "for j in range(0,len(nv)):\n",
    "    if(0<nv['Tprom'][j] <= 10):\n",
    "        HF.append(1) \n",
    "        HC.append(0) \n",
    "    elif(nv['Tprom'][j] >= 25): \n",
    "        HF.append(0) \n",
    "        HC.append(1) \n",
    "    else:  \n",
    "        HC.append(0)\n",
    "        HF.append(0)\n",
    "        \n",
    "#Agregamos los valores del loop en una nueva columna del DataFrame, e imprimimos la cabecera del archivo.\n",
    "nv['HC']=HC \n",
    "nv['HF']=HF\n",
    "nv.head(12)"
   ]
  },
  {
   "cell_type": "code",
   "execution_count": 20,
   "metadata": {},
   "outputs": [
    {
     "data": {
      "text/plain": [
       "(    Año  Mes  Dia  Hora  Tprom  Tmax  Tmin   UF  UF24  HC  HF  HC24  HF24\n",
       " 0  2018   11    1     0    8.7  28.6   6.8  1.0  -0.5   0   1     6     8\n",
       " 1  2018   11    1     1    8.5  28.6   6.8  1.0  -0.5   0   1     6     8\n",
       " 2  2018   11    1     2    8.7  28.6   6.8  1.0  -0.5   0   1     6     8\n",
       " 3  2018   11    1     3    8.8  28.6   6.8  1.0  -0.5   0   1     6     8\n",
       " 4  2018   11    1     4    7.4  28.6   6.8  1.0  -0.5   0   1     6     8,\n",
       "        Año  Mes  Dia  Hora  Tprom  Tmax  Tmin   UF  UF24  HC  HF  HC24  HF24\n",
       " 2618  2019    2   18     3    5.4   6.8   3.4  1.0   8.0   0   1     0     8\n",
       " 2619  2019    2   18     4    4.7   6.8   3.4  1.0   8.0   0   1     0     8\n",
       " 2620  2019    2   18     5    4.2   6.8   3.4  1.0   8.0   0   1     0     8\n",
       " 2621  2019    2   18     6    3.7   6.8   3.4  1.0   8.0   0   1     0     8\n",
       " 2622  2019    2   18     7    3.4   6.8   3.4  1.0   8.0   0   1     0     8)"
      ]
     },
     "execution_count": 20,
     "metadata": {},
     "output_type": "execute_result"
    }
   ],
   "source": [
    "#Agrupamos las horas calientes y horas frias en sus respetivos grupos para sumarlos\n",
    "#y asi obtener el total en un dia.\n",
    "\n",
    "nv[\"HC24\"]=nv.groupby(['Año','Mes','Dia'])['HC'].transform(\"sum\")\n",
    "nv[\"HF24\"]=nv.groupby(['Año','Mes','Dia'])['HF'].transform(\"sum\") \n",
    "\n",
    "\n",
    "nv.head(), nv.tail()"
   ]
  },
  {
   "cell_type": "code",
   "execution_count": 21,
   "metadata": {},
   "outputs": [
    {
     "data": {
      "text/plain": [
       "(    Año  Mes  Dia  Tprom  Tmax  Tmin   UF  UF24  HC24  HF24\n",
       " 0  2018   11    1    8.7  28.6   6.8  1.0  -0.5     6     8\n",
       " 1  2018   11    2   10.6  31.0  10.2  0.5  -9.0     8     0\n",
       " 2  2018   11    3   12.5  30.0  10.5  0.0  -9.5     8     0\n",
       " 3  2018   11    4   12.7  31.2  11.7  0.0 -11.5     8     0\n",
       " 4  2018   11    5   13.9  31.1  11.4  0.0  -8.0     8     0,\n",
       "       Año  Mes  Dia  Tprom  Tmax  Tmin   UF  UF24  HC24  HF24\n",
       " 105  2019    2   14   11.2  28.6   9.6  0.5 -11.0     7     1\n",
       " 106  2019    2   15   18.7  27.2  15.0 -1.0 -20.5     5     0\n",
       " 107  2019    2   16   12.7  23.3   6.7  0.0  -4.5     0     4\n",
       " 108  2019    2   17   11.0  20.8   3.8  0.5   2.5     0    10\n",
       " 109  2019    2   18    6.8   6.8   3.4  1.0   8.0     0     8)"
      ]
     },
     "execution_count": 21,
     "metadata": {},
     "output_type": "execute_result"
    }
   ],
   "source": [
    "#Ahora nos deshacemos de los valores repetidospor dia y de las columnas que ya no usareemos.\n",
    "\n",
    "nv= nv.drop_duplicates(subset=['Año','Mes','Dia']) \n",
    "nv= nv.drop(['HC','HF','Hora'],1) \n",
    "nv= nv.reset_index(drop=True)\n",
    "nv.head(), nv.tail()"
   ]
  },
  {
   "cell_type": "code",
   "execution_count": 22,
   "metadata": {},
   "outputs": [
    {
     "data": {
      "text/plain": [
       "(    Año  Mes  Dia  Tprom  Tmax  Tmin   UF  UF24  HC24  HF24  HFE\n",
       " 0  2018   11    1    8.7  28.6   6.8  1.0  -0.5     6     8    2\n",
       " 1  2018   11    2   10.6  31.0  10.2  0.5  -9.0     8     0   -8\n",
       " 2  2018   11    3   12.5  30.0  10.5  0.0  -9.5     8     0   -8\n",
       " 3  2018   11    4   12.7  31.2  11.7  0.0 -11.5     8     0   -8\n",
       " 4  2018   11    5   13.9  31.1  11.4  0.0  -8.0     8     0   -8,\n",
       "       Año  Mes  Dia  Tprom  Tmax  Tmin   UF  UF24  HC24  HF24  HFE\n",
       " 105  2019    2   14   11.2  28.6   9.6  0.5 -11.0     7     1   -6\n",
       " 106  2019    2   15   18.7  27.2  15.0 -1.0 -20.5     5     0   -5\n",
       " 107  2019    2   16   12.7  23.3   6.7  0.0  -4.5     0     4    4\n",
       " 108  2019    2   17   11.0  20.8   3.8  0.5   2.5     0    10   10\n",
       " 109  2019    2   18    6.8   6.8   3.4  1.0   8.0     0     8    8)"
      ]
     },
     "execution_count": 22,
     "metadata": {},
     "output_type": "execute_result"
    }
   ],
   "source": [
    "#Ahora calcularemos las horas frias efectivas de la siguiente manera.\n",
    "#A las horas frias que hay en 24 horas le restaremos las horas calientes que hay en un dia.\n",
    "\n",
    "nv['HFE']= nv['HF24'] - nv['HC24']\n",
    "nv.head(), nv.tail()"
   ]
  },
  {
   "cell_type": "code",
   "execution_count": 23,
   "metadata": {},
   "outputs": [
    {
     "data": {
      "text/plain": [
       "(    Año  Mes  Dia  Tprom  Tmax  Tmin  UF24  Sum_UF24  HFE\n",
       " 0  2018   11    1    8.7  28.6   6.8  -0.5      -0.5    2\n",
       " 1  2018   11    2   10.6  31.0  10.2  -9.0      -9.5   -8\n",
       " 2  2018   11    3   12.5  30.0  10.5  -9.5     -19.0   -8\n",
       " 3  2018   11    4   12.7  31.2  11.7 -11.5     -30.5   -8\n",
       " 4  2018   11    5   13.9  31.1  11.4  -8.0     -38.5   -8,\n",
       "       Año  Mes  Dia  Tprom  Tmax  Tmin  UF24  Sum_UF24  HFE\n",
       " 105  2019    2   14   11.2  28.6   9.6 -11.0    -267.5   -6\n",
       " 106  2019    2   15   18.7  27.2  15.0 -20.5    -288.0   -5\n",
       " 107  2019    2   16   12.7  23.3   6.7  -4.5    -292.5    4\n",
       " 108  2019    2   17   11.0  20.8   3.8   2.5    -290.0   10\n",
       " 109  2019    2   18    6.8   6.8   3.4   8.0    -282.0    8)"
      ]
     },
     "execution_count": 23,
     "metadata": {},
     "output_type": "execute_result"
    }
   ],
   "source": [
    "#Volveremos a crear un nuevo DataFrame basandonos en el anterior para trabajar con los valores por dia de cada variable.\n",
    "\n",
    "mm=pd.DataFrame(uf24)\n",
    "mm['HFE']=nv['HFE']\n",
    "mm.head(),mm.tail()"
   ]
  },
  {
   "cell_type": "code",
   "execution_count": 24,
   "metadata": {},
   "outputs": [
    {
     "data": {
      "text/plain": [
       "(    Año  Mes  Dia  Tprom  Tmax  Tmin  UF24  Sum_UF24  HFE  Sum_HFE\n",
       " 0  2018   11    1    8.7  28.6   6.8  -0.5      -0.5    2        2\n",
       " 1  2018   11    2   10.6  31.0  10.2  -9.0      -9.5   -8       -6\n",
       " 2  2018   11    3   12.5  30.0  10.5  -9.5     -19.0   -8      -14\n",
       " 3  2018   11    4   12.7  31.2  11.7 -11.5     -30.5   -8      -22\n",
       " 4  2018   11    5   13.9  31.1  11.4  -8.0     -38.5   -8      -30,\n",
       "       Año  Mes  Dia  Tprom  Tmax  Tmin  UF24  Sum_UF24  HFE  Sum_HFE\n",
       " 105  2019    2   14   11.2  28.6   9.6 -11.0    -267.5   -6      346\n",
       " 106  2019    2   15   18.7  27.2  15.0 -20.5    -288.0   -5      341\n",
       " 107  2019    2   16   12.7  23.3   6.7  -4.5    -292.5    4      345\n",
       " 108  2019    2   17   11.0  20.8   3.8   2.5    -290.0   10      355\n",
       " 109  2019    2   18    6.8   6.8   3.4   8.0    -282.0    8      363)"
      ]
     },
     "execution_count": 24,
     "metadata": {},
     "output_type": "execute_result"
    }
   ],
   "source": [
    "#Realizamos la suma acumulativa de las horas frias efectivas.\n",
    "mm['Sum_HFE']=np.cumsum(mm['HFE'])\n",
    "mm.head(), mm.tail()"
   ]
  },
  {
   "cell_type": "code",
   "execution_count": 25,
   "metadata": {},
   "outputs": [
    {
     "data": {
      "image/png": "[encoded data removed]",
      "text/plain": [
       "<Figure size 432x288 with 1 Axes>"
      ]
     },
     "metadata": {
      "needs_background": "light"
     },
     "output_type": "display_data"
    }
   ],
   "source": [
    "#Grafica de temperaturas maxima y minima. \n",
    "x=np.arange(len(mm['Dia'])) \n",
    "y1=mm['UF24'] \n",
    "y2=mm['HFE']\n",
    "plt.plot(x, y1) \n",
    "plt.plot(x, y2)\n",
    "plt.legend([\"UF/dia.\",\"HFE/dia.\"],loc='best') \n",
    "plt.title(\"Comparacion de HFE y UF por dia.\")\n",
    "plt.ylabel(\"Unidades de frio.\")\n",
    "plt.xlabel(\"Dias.\") \n",
    "plt.grid(True)\n",
    "plt.show()"
   ]
  },
  {
   "cell_type": "code",
   "execution_count": 26,
   "metadata": {},
   "outputs": [
    {
     "data": {
      "image/png": "[encoded data removed]",
      "text/plain": [
       "<Figure size 432x288 with 1 Axes>"
      ]
     },
     "metadata": {
      "needs_background": "light"
     },
     "output_type": "display_data"
    }
   ],
   "source": [
    "#Grafica de las horas de frio acumuladas.\n",
    "x=np.arange(len(mm['Dia']))\n",
    "y1=mm['Sum_UF24'] \n",
    "y2=mm['Sum_HFE'] \n",
    "plt.plot(x, y1,color='B') \n",
    "plt.plot(x, y2,color='G')\n",
    "plt.legend([\"UF-acumuladas\",\"HFE-acumuladas\"],loc='best') \n",
    "plt.title(\"Comportamiento de las unidades de frío y las horas de frio efectivas acumuladas.\") \n",
    "plt.ylabel(\"Unidades de frío.\") \n",
    "plt.xlabel(\"Días.\") \n",
    "plt.grid(True)\n",
    "plt.show()"
   ]
  },
  {
   "cell_type": "code",
   "execution_count": null,
   "metadata": {},
   "outputs": [],
   "source": []
  }
 ],
 "metadata": {
  "kernelspec": {
   "display_name": "Python 3",
   "language": "python",
   "name": "python3"
  },
  "language_info": {
   "codemirror_mode": {
    "name": "ipython",
    "version": 3
   },
   "file_extension": ".py",
   "mimetype": "text/x-python",
   "name": "python",
   "nbconvert_exporter": "python",
   "pygments_lexer": "ipython3",
   "version": "3.7.1"
  }
 },
 "nbformat": 4,
 "nbformat_minor": 2
}
